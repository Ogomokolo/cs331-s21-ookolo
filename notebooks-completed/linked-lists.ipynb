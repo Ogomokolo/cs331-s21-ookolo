{
    "nbformat_minor": 0,
    "nbformat": 4,
    "metadata": {
        "language_info": {
            "version": "3.5.2",
            "pygments_lexer": "ipython3",
            "nbconvert_exporter": "python",
            "name": "python",
            "mimetype": "text/x-python",
            "file_extension": ".py",
            "codemirror_mode": {
                "version": 3,
                "name": "ipython"
            }
        },
        "kernelspec": {
            "name": "python3",
            "language": "python",
            "display_name": "Python 3"
        },
        "org": null
    },
    "cells": [
        {
            "source": [
                "#### Linked Lists:PROPERTIES:\n\n"
            ],
            "metadata": {
            },
            "cell_type": "markdown"
        },
        {
            "source": [
                "##### Agenda\n\n"
            ],
            "metadata": {
            },
            "cell_type": "markdown"
        },
        {
            "source": [
                "1.  The `LinkedList` and `Node` classes\n2.  Implementing `append`\n3.  Implementing deletion\n4.  Bidirectional links\n5.  Run-time analysis\n6.  Closing remarks\n\n"
            ],
            "metadata": {
            },
            "cell_type": "markdown"
        },
        {
            "source": [
                "##### 1.  The `LinkedList` and `Node` classes\n\n"
            ],
            "metadata": {
            },
            "cell_type": "markdown"
        },
        {
            "source": [
                "class LinkedList:\n    class Node:\n        def __init__(self, val, next=None):\n            self.val = val\n            self.next = next\n\n    def __init__(self):\n        self.head = None\n        self.len = 0\n\n    def __len__(self):     # O(n)\n        return self.len\n\n    def normalize_index(self,i):\n        assert(i >= -len(self) and i < len(self))\n        if i < 0:  # -i to accessing from back of list\n            i = len(self) + i\n        return i\n\n    def find_link(self, pos): # O(n)\n        assert(pos >= 0 and pos < len(self))\n        cur = self.head\n        print(pos)\n        for i in range(0,pos):\n            cur = cur.next\n            if not cur:\n                raise IndexError()\n        return cur\n\n    def __getitem__(self, index):\n        nindex = self.normalize_index(index)\n#        print(nindex)\n        return self.find_link(nindex).val\n\n    def __setitem__(self, index, val):\n        nindex = self.normalize_index(index)\n        cur = self.find_link(nindex)\n        cur.val = val\n\n    def prepend(self, val):\n        self.head = self.Node(val,self.head)\n        self.len += 1\n\n    def append(self, val):\n        self.insert(len(self),val)\n\n    def insert(self, pos, val): # O(n)\n        if pos != len(self):\n            npos = self.normalize_index(pos)\n        else:\n            npos = len(self)\n        assert(npos >= 0 and npos <= len(self))\n        if npos == 0:\n            self.prepend(val)\n        else:\n            link =  self.find_link(npos - 1) # call to find_link is O(n)\n            newcell = self.Node(val, link.next)\n            link.next = newcell\n            self.len += 1\n\n    def __delitem__(self, pos): # O(n)\n        npos = self.normalize_index(pos)\n        assert(npos >= 0 and npos < len(self))\n        if npos == 0:\n            self.head = self.head.next\n        else:\n            cur = self.find_link(npos - 1) # call to find_link is O(n)\n            cur.next = cur.next.next\n        self.len += -1\n\n    def __iter__(self):\n        cur = self.head\n        while cur:\n            yield cur.val\n            cur = cur.next\n\n    def concat(self,other):\n        # if len(self) == 0:\n        #     self.head = other.head\n        # else:\n        #     self.tail = other.tail\n        for el in other:              # n\n            self.insert(self.len,el)  # n * n = O(n^2)\n\n    def reserve(self): # for example [1,2,3] -> [3,2,1] O(n)\n        pass # return reversed list\n\n    def __repr__(self):\n        return '[' + ', '.join(str(x) for x in self) + ']'"
            ],
            "outputs": [
                {
                    "text": "# Out[121]:",
                    "output_type": "stream",
                    "name": "stdout"
                }
            ],
            "metadata": {
            },
            "execution_count": 1,
            "cell_type": "code"
        },
        {
            "source": [
                "lst = LinkedList()\nfor i in range(3):\n    lst.prepend(i)\nlst"
            ],
            "outputs": [
                {
                    "text": "# Out[112]:\n[2, 1, 0, 3]",
                    "output_type": "stream",
                    "name": "stdout"
                }
            ],
            "metadata": {
            },
            "execution_count": 1,
            "cell_type": "code"
        },
        {
            "source": [
                "##### 1.  Implementing `append`\n\n"
            ],
            "metadata": {
            },
            "cell_type": "markdown"
        },
        {
            "source": [
                "-   actual implementations are above\n\n"
            ],
            "metadata": {
            },
            "cell_type": "markdown"
        },
        {
            "source": [
                "###### Option 1 (only append)\n\n"
            ],
            "metadata": {
            },
            "cell_type": "markdown"
        },
        {
            "source": [
                "lst = LinkedList()\nfor i in range(10):\n    lst.append(i)\nlst"
            ],
            "outputs": [
                {
                    "text": "# Out[122]:\n[0, 1, 2, 3, 4, 5, 6, 7, 8, 9]",
                    "output_type": "stream",
                    "name": "stdout"
                }
            ],
            "metadata": {
            },
            "execution_count": 1,
            "cell_type": "code"
        },
        {
            "source": [
                "###### Option 2 (append and prepend)\n\n"
            ],
            "metadata": {
            },
            "cell_type": "markdown"
        },
        {
            "source": [
                "lst = LinkedList()\nfor i in range(2):\n    lst.append(i)\nlst"
            ],
            "outputs": [
                {
                    "text": "# Out[124]:\n[0, 1]",
                    "output_type": "stream",
                    "name": "stdout"
                }
            ],
            "metadata": {
            },
            "execution_count": 1,
            "cell_type": "code"
        },
        {
            "source": [
                "##### 1.  Implementing deletion\n\n"
            ],
            "metadata": {
            },
            "cell_type": "markdown"
        },
        {
            "source": [
                "###### Deleting the head\n\n"
            ],
            "metadata": {
            },
            "cell_type": "markdown"
        },
        {
            "source": [
                "class LinkedList (LinkedList):\n    def del_head(self):\n        assert(len(self) > 0)\n        del self[0]"
            ],
            "outputs": [
                {
                    "text": "# Out[114]:",
                    "output_type": "stream",
                    "name": "stdout"
                }
            ],
            "metadata": {
            },
            "execution_count": 1,
            "cell_type": "code"
        },
        {
            "source": [
                "lst = LinkedList()\nfor i in range(10):\n    lst.append(i)\nlst.del_head()\nlst.del_head()\nlst"
            ],
            "outputs": [],
            "metadata": {
            },
            "execution_count": 1,
            "cell_type": "code"
        },
        {
            "source": [
                "###### Deleting the tail\n\n"
            ],
            "metadata": {
            },
            "cell_type": "markdown"
        },
        {
            "source": [
                "class LinkedList (LinkedList):\n    def del_tail(self):\n        assert(len(self) > 0)\n        del self[len(self) - 1]"
            ],
            "outputs": [],
            "metadata": {
            },
            "execution_count": 1,
            "cell_type": "code"
        },
        {
            "source": [
                "lst = LinkedList()\nfor i in range(10):\n    lst.append(i)\nlst.del_tail()\nlst.del_tail()\nlst"
            ],
            "outputs": [],
            "metadata": {
            },
            "execution_count": 1,
            "cell_type": "code"
        },
        {
            "source": [
                "##### 1.  Bidirectional links (Doubly-linked list) & Sentinel head\n\n"
            ],
            "metadata": {
            },
            "cell_type": "markdown"
        },
        {
            "source": [
                "class LinkedList:\n    class Node:\n        def __init__(self, val, prior=None, next=None):\n            self.val = val\n            self.prior = prior\n            self.next  = next\n\n    def __init__(self):\n        self.count = 0\n        self.head = self.Node(None)\n        self.head.next = self.head\n        self.head.prior = self.head\n\n    def prepend(self, value): # O(1)\n        self.count += 1\n        newn = self.Node(value, prior = self.head, next = self.head.next)\n        self.head.next.prior = newn\n        self.head.next = newn\n\n\n    def append(self, value): # O(1)\n        self.count += 1\n        newn = self.Node(value, prior = self.head.prior, next = self.head)\n        self.head.prior.next = newn\n        self.head.prior = newn\n\n    def __getitem__(self, idx): # n = O(n), but we can do it in n/2\n        # Write n/2 (first half access though next, second half access through prior)\n        assert(idx >= 0 and idx < len(self))\n        n = self.head.next\n        for i in range(0,idx):\n            n = n.next\n        return n.val\n\n    def __len__(self):\n        return self.count\n\n    def __iter__(self):\n        n = self.head.next\n        while n is not self.head:\n            yield n.val\n            n = n.next\n\n    def __repr__(self):\n        return '[' + ', '.join(str(x) for x in self) + ']'"
            ],
            "outputs": [
                {
                    "text": "# Out[27]:",
                    "output_type": "stream",
                    "name": "stdout"
                }
            ],
            "metadata": {
            },
            "execution_count": 1,
            "cell_type": "code"
        },
        {
            "source": [
                "lst = LinkedList()\nfor i in range(10):\n    lst.prepend(i)\nfor i in range(10):\n    lst.append(i)\nlst"
            ],
            "outputs": [
                {
                    "text": "# Out[126]:\n[9, 8, 7, 6, 5, 4, 3, 2, 1, 0, 0, 1, 2, 3, 4, 5, 6, 7, 8, 9]",
                    "output_type": "stream",
                    "name": "stdout"
                }
            ],
            "metadata": {
            },
            "execution_count": 1,
            "cell_type": "code"
        },
        {
            "source": [
                "##### 1.  Incorporating a \"cursor\"\n\n"
            ],
            "metadata": {
            },
            "cell_type": "markdown"
        },
        {
            "source": [
                "class LinkedList:\n    class Node:\n        def __init__(self, val, prior=None, next=None):\n            self.val = val\n            self.prior = prior\n            self.next  = next\n\n    def __init__(self):\n        self.head = self.cursor = LinkedList.Node(None)\n        self.head.prior = self.head.next = self.head\n        self.count = 0\n\n    def append(self, value):\n        n = LinkedList.Node(value, prior=self.head.prior, next=self.head)\n        n.prior.next = n.next.prior = n\n        self.count += 1\n\n    def cursor_set(self, idx):\n        pass\n\n    def cursor_insert(self, x):\n        pass\n\n    def cursor_delete(self):\n        pass\n\n    def __len__(self):\n        return self.count\n\n    def __iter__(self):\n        n = self.head.next\n        while n is not self.head:\n            yield n.val\n            n = n.next\n\n    def __repr__(self):\n        return '[' + ', '.join(str(x) for x in self) + ']'"
            ],
            "outputs": [],
            "metadata": {
            },
            "execution_count": 1,
            "cell_type": "code"
        },
        {
            "source": [
                "lst = LinkedList()\nfor i in range(10):\n    lst.append(i)\nlst"
            ],
            "outputs": [
                {
                    "text": "# Out[127]:\n[0, 1, 2, 3, 4, 5, 6, 7, 8, 9]",
                    "output_type": "stream",
                    "name": "stdout"
                }
            ],
            "metadata": {
            },
            "execution_count": 1,
            "cell_type": "code"
        },
        {
            "source": [
                "lst.cursor_set(4)\nfor x in 'abcd':\n    lst.cursor_insert(x)\nlst"
            ],
            "outputs": [],
            "metadata": {
            },
            "execution_count": 1,
            "cell_type": "code"
        },
        {
            "source": [
                "lst.cursor_set(8)\nfor _ in range(4):\n    lst.cursor_delete()"
            ],
            "outputs": [],
            "metadata": {
            },
            "execution_count": 1,
            "cell_type": "code"
        },
        {
            "source": [
                "##### 1.  Run-time analysis\n\n"
            ],
            "metadata": {
            },
            "cell_type": "markdown"
        },
        {
            "source": [
                "Run-time complexities for circular, doubly-linked list of $N$ elements:\n\n-   indexing (position-based access) = $O(?)$\n-   search (unsorted) = $O(?)$\n-   search (sorted) = $O(?)$ &#x2014; binary search isn't possible!\n-   prepend = $O(?)$\n-   append = $O(?)$\n-   indexing = $O(?)$\n-   insertion at arbitrary position: indexing = $O(?)$ + insertion =\n    $O(?)$\n-   deletion of arbitrary element: indexing = $O(?)$ + deletion = $O(?)$\n\n"
            ],
            "metadata": {
            },
            "cell_type": "markdown"
        }
    ]
}