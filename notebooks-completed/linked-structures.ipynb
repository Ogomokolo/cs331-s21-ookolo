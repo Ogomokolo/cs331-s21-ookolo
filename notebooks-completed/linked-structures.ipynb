{
    "nbformat_minor": 0,
    "nbformat": 4,
    "metadata": {
        "language_info": {
            "version": "3.5.2",
            "pygments_lexer": "ipython3",
            "nbconvert_exporter": "python",
            "name": "python",
            "mimetype": "text/x-python",
            "file_extension": ".py",
            "codemirror_mode": {
                "version": 3,
                "name": "ipython"
            }
        },
        "kernelspec": {
            "name": "python3",
            "language": "python",
            "display_name": "Python 3"
        },
        "org": null
    },
    "cells": [
        {
            "source": [
                "#### Linked Structures:PROPERTIES:\n\n"
            ],
            "metadata": {
            },
            "cell_type": "markdown"
        },
        {
            "source": [
                "##### Agenda\n\n"
            ],
            "metadata": {
            },
            "cell_type": "markdown"
        },
        {
            "source": [
                "1.  Motives\n2.  Objectives\n3.  Mechanisms\n4.  Linked Data Structures\n\n"
            ],
            "metadata": {
            },
            "cell_type": "markdown"
        },
        {
            "source": [
                "##### 1.  Import arraylists for demonstration\n\n"
            ],
            "metadata": {
            },
            "cell_type": "markdown"
        },
        {
            "source": [
                "###### The `ArrayList` data structure\n\n"
            ],
            "metadata": {
            },
            "cell_type": "markdown"
        },
        {
            "source": [
                "-   **Array API**:\n    -   create array of size `n`\n    -   access element at position `i`\n    -   set the element at position `i`\n    -   get length of array `len(array)`\n\n"
            ],
            "metadata": {
            },
            "cell_type": "markdown"
        },
        {
            "source": [
                "class MyArray:\n\n    def __init__(self,n):\n        self.data = [None] * n\n        self.len = n\n\n    def __getitem__(self, idx):\n        \"\"\"Implements `x = self[idx]`\"\"\"\n        assert(isinstance(idx, int) and self.len > idx)\n        return self.data[idx]\n\n    def __setitem__(self, idx, value):\n        \"\"\"Implements `self[idx] = x`\"\"\"\n        assert(isinstance(idx, int) and self.len > idx)\n        self.data[idx] = value\n\n    def __len__(self):\n        \"\"\"Implements `len(self)`\"\"\"\n        return self.len\n\n    def __repr__(self):\n        \"\"\"Supports inspection\"\"\"\n        return \"[\" + \",\".join([str(x) for x in self.data]) + \"]\""
            ],
            "outputs": [],
            "metadata": {
            },
            "execution_count": 1,
            "cell_type": "code"
        },
        {
            "source": [
                "class MyActualArrayList:\n    def __init__(self,n=10):\n        self.data = MyArray(n)\n        self.len = 0\n\n    def append(self, value): # append, yah in O(n)\n        if len(self.data) <= self.len:\n            newa = MyArray(2 * len(self.data)) # n\n            for i in range(0, self.len): # n\n                newa[i] = self.data[i]   # n\n            self.data = newa             # 1\n        self.data[self.len] = value       # 1\n        self.len += 1                # 1\n\n    def __getitem__(self, idx): # O(1)\n        \"\"\"Implements `x = self[idx]`\"\"\"\n        assert(isinstance(idx, int) and idx < self.len)\n        return self.data[idx]\n\n    def __setitem__(self, idx, value): # O(1)\n        \"\"\"Implements `self[idx] = x`\"\"\"\n        assert(isinstance(idx, int) and idx < self.len)\n        self.data[idx] = value\n\n    def __delitem__(self, idx):\n        \"\"\"Implements `del self[idx]`\"\"\"\n        assert(isinstance(idx, int) and idx < self.len)\n        for i in range(idx+1, self.len):\n            self.data[i-1] = self.data[i]\n        self.len += -1\n\n    def __len__(self):\n        \"\"\"Implements `len(self)`\"\"\"\n        return self.len\n\n    def __repr__(self):\n        \"\"\"Supports inspection\"\"\"\n        return self.data.data[0:self.len].__repr__()"
            ],
            "outputs": [],
            "metadata": {
            },
            "execution_count": 1,
            "cell_type": "code"
        },
        {
            "source": [
                "##### 1.  Motives\n\n"
            ],
            "metadata": {
            },
            "cell_type": "markdown"
        },
        {
            "source": [
                "-   deleting the first element of an arraylist is in linear time\n\n"
            ],
            "metadata": {
            },
            "cell_type": "markdown"
        },
        {
            "source": [
                "%matplotlib inline\nimport matplotlib.pyplot as plt\nimport numpy as np\nfrom timeit import timeit\n\ndef time_array_front_insert_delete(n): # repeatedly append to the end and delete first\n    return timeit('lst.insert(0, None) ; del lst[0]',\n                    'lst = list(range({}))'.format(n),\n                    number=1000)\n\nns = np.linspace(100, 10000, 50)\nplt.plot(ns, [time_array_front_insert_delete(int(n)) for n in ns], 'ro')\nplt"
            ],
            "outputs": [
                {
                    "text": "# Out[217]:\n<module 'matplotlib.pyplot' from '/Users/lord_pretzel/.pyenv/versions/3.9.0/lib/python3.9/site-packages/matplotlib/pyplot.py'>",
                    "output_type": "stream",
                    "name": "stdout"
                },
                {
                    "output_type": "display_data",
                    "metadata": {
                    },
                    "data": {
                        "text/plain": "<matplotlib.figure.Figure>",
                        "image/png": "[encoded data removed]"
                    }
                }
            ],
            "metadata": {
            },
            "execution_count": 1,
            "cell_type": "code"
        },
        {
            "source": [
                "-   however, as discussed deleting from the end is $O(1)$ in both our implementation of `MyActualArrayList` and the Python list implementation\n\n"
            ],
            "metadata": {
            },
            "cell_type": "markdown"
        },
        {
            "source": [
                "%matplotlib inline\nimport matplotlib.pyplot as plt\nimport numpy as np\nfrom timeit import timeit\n\ndef time_array_end_delete(n):\n    return timeit('lst.append(None) ; del lst[{} - 1]'.format(n),\n                    'lst = list(range({}))'.format(n),\n                    number=100000) # repeat this often enough to not measure the setup time of creating the list which is linear time\n\nns = np.linspace(100, 10000, 50)\nplt.plot(ns, [time_array_end_delete(int(n)) for n in ns], 'ro')\nplt"
            ],
            "outputs": [
                {
                    "text": "# Out[224]:\n<module 'matplotlib.pyplot' from '/Users/lord_pretzel/.pyenv/versions/3.9.0/lib/python3.9/site-packages/matplotlib/pyplot.py'>",
                    "output_type": "stream",
                    "name": "stdout"
                },
                {
                    "output_type": "display_data",
                    "metadata": {
                    },
                    "data": {
                        "text/plain": "<matplotlib.figure.Figure>",
                        "image/png": "[encoded data removed]"
                    }
                }
            ],
            "metadata": {
            },
            "execution_count": 1,
            "cell_type": "code"
        },
        {
            "source": [
                "from timeit import timeit\n\n# create the list upfront to not measure time of append\nmax = 10000\nmylst = MyActualArrayList()\nfor i in range(0,max):\n    mylst.append(1)\n\n# report repeated insertion / deletion at the end\ndef time_our_array_list_end_delete(n):\n    return timeit('lst.append(None); del lst[{} - 1]'.format(n),\n                  'from __main__ import MyActualArrayList; '\n                  'lst = mylst; '\n                  'lst.len = {}'.format(n),\n                  globals=globals(),\n                  number=10000)\n\nns = np.linspace(100, max, 50)\nplt.plot(ns, [time_our_array_list_end_delete(int(n)) for n in ns], 'ro')\nplt"
            ],
            "outputs": [
                {
                    "text": "# Out[225]:\n<module 'matplotlib.pyplot' from '/Users/lord_pretzel/.pyenv/versions/3.9.0/lib/python3.9/site-packages/matplotlib/pyplot.py'>",
                    "output_type": "stream",
                    "name": "stdout"
                },
                {
                    "output_type": "display_data",
                    "metadata": {
                    },
                    "data": {
                        "text/plain": "<matplotlib.figure.Figure>",
                        "image/png": "[encoded data removed]"
                    }
                }
            ],
            "metadata": {
            },
            "execution_count": 1,
            "cell_type": "code"
        },
        {
            "source": [
                "-   note that this is constant time!\n\n"
            ],
            "metadata": {
            },
            "cell_type": "markdown"
        },
        {
            "source": [
                "###### Runtime of concatenating lists\n\n"
            ],
            "metadata": {
            },
            "cell_type": "markdown"
        },
        {
            "source": [
                "# consider:\n\ndef concatenate(arr1, arr2):\n    \"\"\"Concatenates the contents of arr1 and arr2 as efficiently (time-wise)\n    as possible, so that the resulting structure can be used to index all\n    combined elements (arr1's followed by arr2's).\"\"\"\n\n    # option 1: O(?)\n    for x in arr2:\n        arr1.append(x)\n        return arr1\n\ndef concatenate2(arr1, arr2):\n    # option 2: O(?)\n    arr1.extend(arr2)\n    return arr1\n\ndef concatenate3(arr1, arr2):\n    # option 3: O(?)\n    return arr1 + arr2"
            ],
            "outputs": [
                {
                    "text": ":results:\n # Out[33]:\n :end:",
                    "output_type": "stream",
                    "name": "stdout"
                }
            ],
            "metadata": {
            },
            "execution_count": 1,
            "cell_type": "code"
        },
        {
            "source": [
                "-   this is linear time in the length of the input lists\n\n"
            ],
            "metadata": {
            },
            "cell_type": "markdown"
        },
        {
            "source": [
                "%matplotlib inline\nimport matplotlib.pyplot as plt\nimport numpy as np\nfrom timeit import timeit\n\ndef time_array_front_insert_delete(n):\n    return timeit('for x in lst2: lst1.append(x)',\n                    'lst1 = list(range({})); lst2 = list(range({}))'.format(n,n),\n                    number=1000)\n\nns = np.linspace(100, 10000, 50)\nplt.plot(ns, [time_array_front_insert_delete(int(n)) for n in ns], 'ro')\nplt"
            ],
            "outputs": [
                {
                    "text": ":results:\n # Out[226]:\n : <module 'matplotlib.pyplot' from '/Users/lord_pretzel/.pyenv/versions/3.9.0/lib/python3.9/site-packages/matplotlib/pyplot.py'>\n \n :end:",
                    "output_type": "stream",
                    "name": "stdout"
                },
                {
                    "output_type": "display_data",
                    "metadata": {
                    },
                    "data": {
                        "text/plain": "<matplotlib.figure.Figure>",
                        "image/png": "[encoded data removed]"
                    }
                }
            ],
            "metadata": {
            },
            "execution_count": 1,
            "cell_type": "code"
        },
        {
            "source": [
                "##### 1.  Objectives\n\n"
            ],
            "metadata": {
            },
            "cell_type": "markdown"
        },
        {
            "source": [
                "We would like a new data storage mechanism for constructing data structures that:\n\n-   does not require monolithic, contiguous memory allocation\n-   allows individual elements to be flexibly and efficiently reorganized\n    -   e.g., maybe even concatenation could be efficient\n-   and preserves the ability to locate (e.g., via position) and iterate over elements\n\n"
            ],
            "metadata": {
            },
            "cell_type": "markdown"
        },
        {
            "source": [
                "##### 1.  Mechanisms\n\n"
            ],
            "metadata": {
            },
            "cell_type": "markdown"
        },
        {
            "source": [
                "###### 3.1. Two-Element Lists\n\n"
            ],
            "metadata": {
            },
            "cell_type": "markdown"
        },
        {
            "source": [
                "# data items\ni1 = 'lions'\ni2 = 'tigers'\ni3 = 'bears'\ni4 = 'oh, my'\n[i1, i2, i3, i4]"
            ],
            "outputs": [
                {
                    "text": "# Out[228]:\n['lions', 'tigers', 'bears', 'oh, my']",
                    "output_type": "stream",
                    "name": "stdout"
                }
            ],
            "metadata": {
            },
            "execution_count": 1,
            "cell_type": "code"
        },
        {
            "source": [
                "# creating individual \"links\"\nl4 = [i4,None]\nl3 = [i3,l4]\nl2 = [i2,l3]\nl1 = [i1,l2]\nl1"
            ],
            "outputs": [
                {
                    "text": "# Out[229]:\n['lions', ['tigers', ['bears', ['oh, my', None]]]]",
                    "output_type": "stream",
                    "name": "stdout"
                }
            ],
            "metadata": {
            },
            "execution_count": 1,
            "cell_type": "code"
        },
        {
            "source": [
                "# link-ing them together"
            ],
            "outputs": [],
            "metadata": {
            },
            "execution_count": 1,
            "cell_type": "code"
        },
        {
            "source": [
                "# iteration\ndef printlist(head):\n    cur = head\n    while cur != None:\n        print(cur[0])\n        cur = cur[1]\nprintlist(l1)"
            ],
            "outputs": [
                {
                    "text": "lions\ntigers\nbears\noh, my",
                    "output_type": "stream",
                    "name": "stdout"
                }
            ],
            "metadata": {
            },
            "execution_count": 1,
            "cell_type": "code"
        },
        {
            "source": [
                "# prepending\ni0 = 'walruses'\nl0 = [i0,l1]\nhead = l0\nprintlist(head)"
            ],
            "outputs": [
                {
                    "text": "walruses\nlions\ntigers\nbears\noh, my",
                    "output_type": "stream",
                    "name": "stdout"
                }
            ],
            "metadata": {
            },
            "execution_count": 1,
            "cell_type": "code"
        },
        {
            "source": [
                "def prepend_list(head, el): # O(1)\n    newcell = [el,head] # 1\n    return newcell      # 1\n\nnewhead = prepend_list(l1, 'walruses')\nprintlist(newhead)"
            ],
            "outputs": [
                {
                    "text": "walruses\nlions\ntigers\nbears\noh, my",
                    "output_type": "stream",
                    "name": "stdout"
                }
            ],
            "metadata": {
            },
            "execution_count": 1,
            "cell_type": "code"
        },
        {
            "source": [
                "# index access\ndef get_linked_list(head, pos): # O(n)\n    cur = head                # 1\n    for i in range(0,pos):    # O(n)\n        cur = cur[1]          # O(n)\n        if not cur:           # O(n)\n            raise IndexError() # 1\n    return cur[0]             # 1\nget_linked_list(newhead,3)"
            ],
            "outputs": [
                {
                    "text": "# Out[247]:\n'bears'",
                    "output_type": "stream",
                    "name": "stdout"
                }
            ],
            "metadata": {
            },
            "execution_count": 1,
            "cell_type": "code"
        },
        {
            "source": [
                "# insertion\ndef insert_linked_list(head, pos, el): # O(n)\n    cur = head\n    for i in range(0,pos):\n        cur = cur[1]\n        if not cur:\n            raise IndexError()\n    newel = [ el, cur[1] ]\n    cur[1] = newel\ni2_5 = 'elephants'\nfor i in range(0,4):\n    insert_linked_list(l0,2,i2_5) # did run it 4 times\nprintlist(head)"
            ],
            "outputs": [
                {
                    "text": "walruses\nlions\ntigers\nelephants\nelephants\nelephants\nelephants\nbears\noh, my",
                    "output_type": "stream",
                    "name": "stdout"
                }
            ],
            "metadata": {
            },
            "execution_count": 1,
            "cell_type": "code"
        },
        {
            "source": [
                "# find cell\ndef get_cell_at_pos(head,pos):\n    cur = head\n    for i in range(0,pos):\n        cur = cur[1]\n    return cur\n\n# deletion\ndef delete_linked_list(head,pos): # does not work the first element\n    cur = get_cell_at_pos(head,pos-1)\n    nxt = cur[1]\n    cur[1] = nxt[1]\n\ndelete_linked_list(head,3)\nprintlist(head)"
            ],
            "outputs": [
                {
                    "text": "walruses\nlions\ntigers\nelephants\nelephants\nelephants\nbears\noh, my",
                    "output_type": "stream",
                    "name": "stdout"
                }
            ],
            "metadata": {
            },
            "execution_count": 1,
            "cell_type": "code"
        },
        {
            "source": [
                "delete_linked_list(head,3)\ndelete_linked_list(head,3)\ndelete_linked_list(head,3)\nprintlist(head)"
            ],
            "outputs": [
                {
                    "text": "# Out[253]:",
                    "output_type": "stream",
                    "name": "stdout"
                }
            ],
            "metadata": {
            },
            "execution_count": 1,
            "cell_type": "code"
        },
        {
            "source": [
                "###### 3.2. \"Link\" objects\n\n"
            ],
            "metadata": {
            },
            "cell_type": "markdown"
        },
        {
            "source": [
                "class Link:\n    def __init__(self, val, next=None):\n        self.val = val\n        self.next = next\n\n    def __str__(self):\n        return self.__repr__()\n\n    def __repr__(self):\n        nextrep = \"None\" if not self.next else self.next.__repr__()\n        return f\"Link({self.val.__repr__()},{nextrep})\""
            ],
            "outputs": [
                {
                    "text": "# Out[262]:",
                    "output_type": "stream",
                    "name": "stdout"
                }
            ],
            "metadata": {
            },
            "execution_count": 1,
            "cell_type": "code"
        },
        {
            "source": [
                "# manually constructing a list\nhead = Link('lions',Link('bear',Link('fleas',None)))\nprint(head)"
            ],
            "outputs": [
                {
                    "text": "Link('lions',Link('bear',Link('fleas',None)))",
                    "output_type": "stream",
                    "name": "stdout"
                }
            ],
            "metadata": {
            },
            "execution_count": 1,
            "cell_type": "code"
        },
        {
            "source": [
                "# prepending\ndef prepend(l, val):\n    return Link(val,l)"
            ],
            "outputs": [
                {
                    "text": "# Out[264]:",
                    "output_type": "stream",
                    "name": "stdout"
                }
            ],
            "metadata": {
            },
            "execution_count": 1,
            "cell_type": "code"
        },
        {
            "source": [
                "l = None\nfor x in range(10):\n    l = prepend(l, x)\nl"
            ],
            "outputs": [
                {
                    "text": "# Out[266]:\nLink(9,Link(8,Link(7,Link(6,Link(5,Link(4,Link(3,Link(2,Link(1,Link(0,None))))))))))",
                    "output_type": "stream",
                    "name": "stdout"
                }
            ],
            "metadata": {
            },
            "execution_count": 1,
            "cell_type": "code"
        },
        {
            "source": [
                "# iterator\ndef link_iterator(l):\n    cur = l\n    while cur.next:\n        yield cur.val\n        cur = cur.next"
            ],
            "outputs": [
                {
                    "text": "# Out[270]:",
                    "output_type": "stream",
                    "name": "stdout"
                }
            ],
            "metadata": {
            },
            "execution_count": 1,
            "cell_type": "code"
        },
        {
            "source": [
                "for x in link_iterator(l):\n    print(x)"
            ],
            "outputs": [
                {
                    "text": "9\n8\n7\n6\n5\n4\n3\n2\n1",
                    "output_type": "stream",
                    "name": "stdout"
                }
            ],
            "metadata": {
            },
            "execution_count": 1,
            "cell_type": "code"
        },
        {
            "source": [
                "# iteration based on a recursive pattern\ndef link_iterator_rec(l):\n    if l:\n        yield l.val\n        for val in link_iterator_rec(l.next):\n            yield val"
            ],
            "outputs": [
                {
                    "text": "# Out[280]:",
                    "output_type": "stream",
                    "name": "stdout"
                }
            ],
            "metadata": {
            },
            "execution_count": 1,
            "cell_type": "code"
        },
        {
            "source": [
                "for x in link_iterator_rec(l):\n    print(x)"
            ],
            "outputs": [
                {
                    "text": "9\n8\n7\n6\n5\n4\n3\n2\n1\n0",
                    "output_type": "stream",
                    "name": "stdout"
                }
            ],
            "metadata": {
            },
            "execution_count": 1,
            "cell_type": "code"
        },
        {
            "source": [
                "##### 1.  Linked Data Structures\n\n"
            ],
            "metadata": {
            },
            "cell_type": "markdown"
        },
        {
            "source": [
                "###### 4.1 Linked List\n\n"
            ],
            "metadata": {
            },
            "cell_type": "markdown"
        },
        {
            "source": [
                "class LinkedList:\n    class Link:\n        def __init__(self, val, next=None):\n            self.val = val\n            self.next = next\n\n    def __init__(self):\n        self.head = None\n        self.len = 0\n\n    def __len__(self):     # O(n)\n        return self.len\n\n    def normalize_index(self,i):\n        assert(i >= -len(self) and i < len(self))\n        if i < 0:  # -i to accessing from back of list\n            i = len(self) + i\n        return i\n\n    def find_link(self, pos): # O(n)\n        assert(pos >= 0 and pos < len(self))\n        cur = self.head\n        for i in range(0,pos):\n            cur = cur.next\n            if not cur:\n                raise IndexError()\n        return cur\n\n    def __getitem__(self, index):\n        nindex = self.normalize_index(index)\n#        print(nindex)\n        return self.find_link(nindex).val\n\n    def __setitem__(self, index, val):\n        nindex = self.normalize_index(index)\n        cur = self.find_link(nindex)\n        cur.val = val\n\n    def prepend(self, val):\n        self.head = self.Link(val,self.head)\n        self.len += 1\n\n    def insert(self, pos, val): # O(n)\n        npos = self.normalize_index(pos)\n        assert(npos >= 0 and npos <= len(self))\n        if npos == 0:\n            self.prepend(val)\n        else:\n            link =  self.find_link(npos - 1) # call to find_link is O(n)\n            newcell = self.Link(val, link.next)\n            link.next = newcell\n        self.len += 1\n\n    def __delitem__(self, pos): # O(n)\n        npos = self.normalize_index(pos)\n        assert(npos >= 0 and npos < len(self))\n        if npos == 0:\n            self.head = self.head.next\n        else:\n            cur = self.find_link(npos - 1) # call to find_link is O(n)\n            cur.next = cur.next.next\n        self.len += -1\n\n    def __iter__(self):\n        cur = self.head\n        while cur:\n            yield cur.val\n            cur = cur.next\n\n    def concat(self,other):\n        if len(self) == 0:\n            self.head = other.head\n        else:\n            self.tail.next = other.head                # O(1)\n            self.tail = other.tail\n        # for el in other:              # n\n        #     self.insert(self.len,el)  # n * n = O(n^2)\n\n    def reserve(self): # for example [1,2,3] -> [3,2,1] O(n)\n        pass # return reversed list\n\n    def __repr__(self):\n        return '[' + ', '.join(str(x) for x in self) + ']'"
            ],
            "outputs": [
                {
                    "text": "# Out[33]:",
                    "output_type": "stream",
                    "name": "stdout"
                }
            ],
            "metadata": {
            },
            "execution_count": 1,
            "cell_type": "code"
        },
        {
            "source": [
                "l = LinkedList()\nfor x in range(10):\n    l.prepend(x)\nl"
            ],
            "outputs": [
                {
                    "text": "# Out[12]:\n[9, 8, 7, 6, 5, 4, 3, 2, 1, 0]",
                    "output_type": "stream",
                    "name": "stdout"
                }
            ],
            "metadata": {
            },
            "execution_count": 1,
            "cell_type": "code"
        },
        {
            "source": [
                "l2 = LinkedList()\nfor x in range(10):\n    l2.prepend(x)\ndel l2[0]\ndel l2[3]\nl2"
            ],
            "outputs": [
                {
                    "text": "# Out[40]:\n[8, 7, 6, 4, 3, 2, 1, 0]",
                    "output_type": "stream",
                    "name": "stdout"
                }
            ],
            "metadata": {
            },
            "execution_count": 1,
            "cell_type": "code"
        },
        {
            "source": [
                "###### 4.2 Binary Tree\n\n"
            ],
            "metadata": {
            },
            "cell_type": "markdown"
        },
        {
            "source": [
                "class BinaryLink:\n    def __init__(self, val, left=None, right=None):\n        self.val = val\n        self.left = left\n        self.right = right"
            ],
            "outputs": [
                {
                    "text": "# Out[2]:",
                    "output_type": "stream",
                    "name": "stdout"
                }
            ],
            "metadata": {
            },
            "execution_count": 1,
            "cell_type": "code"
        },
        {
            "source": [
                "# manual construction of a \"tree\" representing the expression ((5+3)*(8-4))\nt = BinaryLink('*')\nt.left = BinaryLink('+')\nt.left.left  = BinaryLink('5')\nt.left.right = BinaryLink('3')\nt.right = BinaryLink('-')\nt.right.left  = BinaryLink('8')\nt.right.right = BinaryLink('4')"
            ],
            "outputs": [
                {
                    "text": "# Out[3]:",
                    "output_type": "stream",
                    "name": "stdout"
                }
            ],
            "metadata": {
            },
            "execution_count": 1,
            "cell_type": "code"
        },
        {
            "source": [
                "def print_expr_tree(t):\n    if t:\n        if not t.val.isdigit():\n            print('(', end='')\n        print_expr_tree(t.left)\n        print(t.val, end='')\n        print_expr_tree(t.right)\n        if not t.val.isdigit():\n            print(')', end='')"
            ],
            "outputs": [
                {
                    "text": "# Out[4]:",
                    "output_type": "stream",
                    "name": "stdout"
                }
            ],
            "metadata": {
            },
            "execution_count": 1,
            "cell_type": "code"
        },
        {
            "source": [
                "print_expr_tree(t)"
            ],
            "outputs": [
                {
                    "text": "((5+3)*(8-4))",
                    "output_type": "stream",
                    "name": "stdout"
                }
            ],
            "metadata": {
            },
            "execution_count": 1,
            "cell_type": "code"
        },
        {
            "source": [
                "###### 4.3 N-ary Tree\n\n"
            ],
            "metadata": {
            },
            "cell_type": "markdown"
        },
        {
            "source": [
                "class NaryLink:\n    def __init__(self, val, n=2):\n        self.val = val\n        self.children = [None] * n\n\n    def __getitem__(self, idx):\n        return self.children[idx]\n\n    def __setitem__(self, idx, val):\n        self.children[idx] = val\n\n    def __iter__(self):\n        for c in self.children:\n            yield c"
            ],
            "outputs": [
                {
                    "text": "# Out[7]:",
                    "output_type": "stream",
                    "name": "stdout"
                }
            ],
            "metadata": {
            },
            "execution_count": 1,
            "cell_type": "code"
        },
        {
            "source": [
                "root = NaryLink('Kingdoms', n=5)\n\nroot[0] = NaryLink('Animalia', n=35)\nroot[1] = NaryLink('Plantae', n=12)\nroot[2] = NaryLink('Fungi', n=7)\nroot[3] = NaryLink('Protista', n=5)\nroot[4] = NaryLink('Monera', n=5)\n\nroot[2][0] = NaryLink('Chytridiomycota')\nroot[2][1] = NaryLink('Blastocladiomycota')\nroot[2][2] = NaryLink('Glomeromycota')\nroot[2][3] = NaryLink('Ascomycota')\nroot[2][4] = NaryLink('Basidiomycota')\nroot[2][5] = NaryLink('Microsporidia')\nroot[2][6] = NaryLink('Neocallimastigomycota')\n\nroot[0][0] = NaryLink('Mamalia')\nroot[0][1] = NaryLink('Fish')\n\ndef tree_iter(root):\n    if root:\n        yield root.val\n        for c in root:\n            yield from tree_iter(c)\n\ndef treepp(root,depth=0):\n    if root:\n        print(depth * '\\t' + root.val)\n        for c in root:\n            treepp(c,depth+1)"
            ],
            "outputs": [
                {
                    "text": "# Out[13]:",
                    "output_type": "stream",
                    "name": "stdout"
                }
            ],
            "metadata": {
            },
            "execution_count": 1,
            "cell_type": "code"
        },
        {
            "source": [
                "treepp(root)"
            ],
            "outputs": [
                {
                    "text": "Kingdoms\n\tAnimalia\n\t\tMamalia\n\t\tFish\n\tPlantae\n\tFungi\n\t\tChytridiomycota\n\t\tBlastocladiomycota\n\t\tGlomeromycota\n\t\tAscomycota\n\t\tBasidiomycota\n\t\tMicrosporidia\n\t\tNeocallimastigomycota\n\tProtista\n\tMonera",
                    "output_type": "stream",
                    "name": "stdout"
                }
            ],
            "metadata": {
            },
            "execution_count": 1,
            "cell_type": "code"
        }
    ]
}