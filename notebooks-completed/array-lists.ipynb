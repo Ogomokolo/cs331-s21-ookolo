{
 "cells": [
  {
   "cell_type": "markdown",
   "metadata": {
    "collapsed": false
   },
   "source": [
    "#### The Array-Backed List:PROPERTIES:\n",
    "\n"
   ]
  },
  {
   "cell_type": "markdown",
   "metadata": {
    "collapsed": false
   },
   "source": [
    "##### Agenda\n",
    "\n"
   ]
  },
  {
   "cell_type": "markdown",
   "metadata": {
    "collapsed": false
   },
   "source": [
    "1.  The List **Abstract Data Type** (ADT)\n",
    "2.  A List **Data Structure**\n",
    "3.  Our List API\n",
    "4.  Getting started: how to store our data?\n",
    "5.  Built-in `list` as array\n",
    "6.  The `ArrayList` data structure\n",
    "\n"
   ]
  },
  {
   "cell_type": "markdown",
   "metadata": {
    "collapsed": false
   },
   "source": [
    "##### 1.  The List **Abstract Data Type** (ADT)\n",
    "\n"
   ]
  },
  {
   "cell_type": "markdown",
   "metadata": {
    "collapsed": false
   },
   "source": [
    "An **abstract data type (ADT)** defines a *conceptual model* for how data\n",
    "may be stored and accessed.\n",
    "\n",
    "A **list ADT** is a data container where:\n",
    "\n",
    "-   values are ordered in a *sequence*\n",
    "-   each value has at most one preceding and one succeeding value\n",
    "-   a given value may appear more than once in a list\n",
    "\n",
    "`l = [1,1,3,4,1,3]`\n",
    "\n",
    "Other common ADTs (some of which we'll explore later) include:\n",
    "\n",
    "-   Stacks\n",
    "-   Queues\n",
    "-   Priority Queues\n",
    "-   Maps\n",
    "-   Graphs\n",
    "\n"
   ]
  },
  {
   "cell_type": "markdown",
   "metadata": {
    "collapsed": false
   },
   "source": [
    "##### 1.  A List **Data Structure**\n",
    "\n"
   ]
  },
  {
   "cell_type": "markdown",
   "metadata": {
    "collapsed": false
   },
   "source": [
    "A **list data structure** is a *concrete implementation* of the list ADT\n",
    "in some programming language, which, in addition to adhering to the\n",
    "basic premises of the ADT, will also typically support operations that:\n",
    "\n",
    "-   access values in the list by their position (index)\n",
    "-   append and insert new values into the list\n",
    "-   remove values from the list\n",
    "\n",
    "The implementation of any data structure will generally rely on simpler,\n",
    "constituent data types (e.g., \"primitive\" types offered by the\n",
    "language), the choice of which may affect the runtime complexities of\n",
    "said operations.\n",
    "\n"
   ]
  },
  {
   "cell_type": "markdown",
   "metadata": {
    "collapsed": false
   },
   "source": [
    "##### 1.  The List API\n",
    "\n"
   ]
  },
  {
   "cell_type": "markdown",
   "metadata": {
    "collapsed": false
   },
   "source": [
    "The operations we'll be building into our list data structures will be based on\n",
    "the [common](https://docs.python.org/3.6/library/stdtypes.html#common-sequence-operations) and [mutable](https://docs.python.org/3.6/library/stdtypes.html#mutable-sequence-types) sequence operations defined by the Python library.\n",
    "\n"
   ]
  },
  {
   "cell_type": "code",
   "execution_count": 1,
   "metadata": {
    "collapsed": false
   },
   "outputs": [],
   "source": [
    "class List:\n",
    "    ### subscript-based access ###\n",
    "\n",
    "    def __getitem__(self, idx):\n",
    "        \"\"\"Implements `x = self[idx]`\"\"\"\n",
    "        pass\n",
    "\n",
    "    def __setitem__(self, idx, value):\n",
    "        \"\"\"Implements `self[idx] = value`\"\"\"\n",
    "        pass\n",
    "\n",
    "    def __delitem__(self, idx):\n",
    "        \"\"\"Implements `del self[idx]`\"\"\"\n",
    "        pass\n",
    "\n",
    "    ### stringification ###\n",
    "\n",
    "    def __repr__(self):\n",
    "        \"\"\"Supports inspection\"\"\"\n",
    "        return '[]'\n",
    "\n",
    "    def __str__(self):\n",
    "        \"\"\"Implements `str(self)`\"\"\"\n",
    "        return '[]'\n",
    "\n",
    "    ### single-element manipulation ###\n",
    "\n",
    "    def append(self, value):\n",
    "        pass\n",
    "\n",
    "    def insert(self, idx, value):\n",
    "        pass\n",
    "\n",
    "    def pop(self, idx=-1):\n",
    "        pass\n",
    "\n",
    "    def remove(self, value):\n",
    "        pass\n",
    "\n",
    "    ### predicates (T/F queries) ###\n",
    "\n",
    "    def __eq__(self, other):\n",
    "        \"\"\"Implements `self == other`\"\"\"\n",
    "        return True\n",
    "\n",
    "    def __contains__(self, value):\n",
    "        \"\"\"Implements `value in self`\"\"\"\n",
    "        return True\n",
    "\n",
    "    ### queries ###\n",
    "\n",
    "    def __len__(self):\n",
    "        \"\"\"Implements `len(self)`\"\"\"\n",
    "        return len(self.data)\n",
    "\n",
    "    def min(self):\n",
    "        pass\n",
    "\n",
    "    def max(self):\n",
    "        pass\n",
    "\n",
    "    def index(self, value, i, j):\n",
    "        pass\n",
    "\n",
    "    def count(self, value):\n",
    "        pass\n",
    "\n",
    "    ### bulk operations ###\n",
    "\n",
    "    def __add__(self, other):\n",
    "        \"\"\"Implements `self + other_array_list`\"\"\"\n",
    "        return self\n",
    "\n",
    "    def clear(self):\n",
    "        pass\n",
    "\n",
    "    def copy(self):\n",
    "        pass\n",
    "\n",
    "    def extend(self, other):\n",
    "        pass\n",
    "\n",
    "    ### iteration ###\n",
    "\n",
    "    def __iter__(self):\n",
    "        \"\"\"Supports iteration (via `iter(self)`)\"\"\"\n",
    "        pass"
   ]
  },
  {
   "cell_type": "markdown",
   "metadata": {
    "collapsed": false
   },
   "source": [
    "##### 1.  Getting started: how to store our data?\n",
    "\n"
   ]
  },
  {
   "cell_type": "code",
   "execution_count": 2,
   "metadata": {
    "collapsed": false
   },
   "outputs": [],
   "source": [
    "class List:\n",
    "    def ini():\n",
    "        pass\n",
    "\n",
    "    def append(self, value):\n",
    "        pass\n",
    "\n",
    "    def __getitem__(self, idx):\n",
    "        \"\"\"Implements `x = self[idx]`\"\"\"\n",
    "        pass\n",
    "\n",
    "    def __setitem__(self, idx, value):\n",
    "        \"\"\"Implements `self[idx] = x`\"\"\"\n",
    "        pass\n",
    "\n",
    "    def __repr__(self):\n",
    "        \"\"\"Supports inspection\"\"\"\n",
    "        pass"
   ]
  },
  {
   "cell_type": "markdown",
   "metadata": {
    "collapsed": false
   },
   "source": [
    "##### 1.  Built-in `list` as array\n",
    "\n"
   ]
  },
  {
   "cell_type": "markdown",
   "metadata": {
    "collapsed": false
   },
   "source": [
    "To use the built-in list as though it were a primitive array, we will\n",
    "constrain ourselves to just the following APIs on a given list `lst`:\n",
    "\n",
    "1.  `lst[i]` for getting and setting values at an *existing, positive*\n",
    "    index `i`\n",
    "2.  `len(lst)` to obtain the number of slots\n",
    "3.  `lst.append(None)` to grow the list by *one slot at a time* (**later maybe not one slot at a time**)\n",
    "4.  `del lst[len(lst)-1]` to delete the last slot in a list\n",
    "\n"
   ]
  },
  {
   "cell_type": "markdown",
   "metadata": {
    "collapsed": false
   },
   "source": [
    "##### 1.  The `ArrayList` data structure\n",
    "\n"
   ]
  },
  {
   "cell_type": "code",
   "execution_count": 3,
   "metadata": {
    "collapsed": false
   },
   "outputs": [],
   "source": [
    "class MyArrayList:\n",
    "    def __init__(self):\n",
    "        self.data = []\n",
    "\n",
    "    def append(self, value):\n",
    "        self.data.append(value)\n",
    "\n",
    "    def __getitem__(self, idx):\n",
    "        \"\"\"Implements `x = self[idx]`\"\"\"\n",
    "        assert(isinstance(idx, int))\n",
    "        return self.data[idx]\n",
    "\n",
    "    def __setitem__(self, idx, value):\n",
    "        \"\"\"Implements `self[idx] = x`\"\"\"\n",
    "        assert(isinstance(idx, int))\n",
    "        self.data[idx] = value\n",
    "\n",
    "    def __delitem__(self, idx):\n",
    "        \"\"\"Implements `del self[idx]`\"\"\"\n",
    "        assert(isinstance(idx, int))\n",
    "        for i in range(idx+1, len(self.data)):\n",
    "            self.data[i-1] = self.data[i]\n",
    "        del self.data[len(self.data)-1]\n",
    "\n",
    "    def __len__(self):\n",
    "        \"\"\"Implements `len(self)`\"\"\"\n",
    "        len(self.data)\n",
    "\n",
    "    def __repr__(self):\n",
    "        \"\"\"Supports inspection\"\"\"\n",
    "        return \"[\" + \",\".join([str(x) for x in self.data]) + \"]\""
   ]
  },
  {
   "cell_type": "code",
   "execution_count": 4,
   "metadata": {
    "collapsed": false
   },
   "outputs": [
    {
     "data": {
      "text/plain": [
       "[1,2,3]"
      ]
     },
     "execution_count": 4,
     "metadata": {},
     "output_type": "execute_result"
    }
   ],
   "source": [
    "x = MyArrayList()\n",
    "x.append(1)\n",
    "x.append(2)\n",
    "x.append(3)\n",
    "x"
   ]
  },
  {
   "cell_type": "code",
   "execution_count": 5,
   "metadata": {
    "collapsed": false
   },
   "outputs": [
    {
     "data": {
      "text/plain": [
       "[3,4]"
      ]
     },
     "execution_count": 5,
     "metadata": {},
     "output_type": "execute_result"
    }
   ],
   "source": [
    "y = MyArrayList()\n",
    "y.append(1)\n",
    "y.append(3)\n",
    "y.append(4)\n",
    "del y[0]\n",
    "y"
   ]
  },
  {
   "cell_type": "markdown",
   "metadata": {
    "collapsed": false
   },
   "source": [
    "##### 1.  The `ArrayList` data structure (now for real, not quite)\n",
    "\n"
   ]
  },
  {
   "cell_type": "markdown",
   "metadata": {
    "collapsed": false
   },
   "source": [
    "-   **Array API**:\n",
    "    -   create array of size `n`\n",
    "    -   access element at position `i`\n",
    "    -   set the element at position `i`\n",
    "    -   get length of array `len(array)`\n",
    "\n"
   ]
  },
  {
   "cell_type": "code",
   "execution_count": 6,
   "metadata": {
    "collapsed": false
   },
   "outputs": [],
   "source": [
    "class MyArray:\n",
    "\n",
    "    def __init__(self,n):\n",
    "        self.data = [None] * n\n",
    "        self.len = n\n",
    "\n",
    "    def __getitem__(self, idx):\n",
    "        \"\"\"Implements `x = self[idx]`\"\"\"\n",
    "        assert(isinstance(idx, int) and self.len > idx)\n",
    "        return self.data[idx]\n",
    "\n",
    "    def __setitem__(self, idx, value):\n",
    "        \"\"\"Implements `self[idx] = x`\"\"\"\n",
    "        assert(isinstance(idx, int) and self.len > idx)\n",
    "        self.data[idx] = value\n",
    "\n",
    "    def __len__(self):\n",
    "        \"\"\"Implements `len(self)`\"\"\"\n",
    "        return self.len\n",
    "\n",
    "    def __repr__(self):\n",
    "        \"\"\"Supports inspection\"\"\"\n",
    "        return \"[\" + \",\".join([str(x) for x in self.data]) + \"]\""
   ]
  },
  {
   "cell_type": "code",
   "execution_count": 7,
   "metadata": {
    "collapsed": false
   },
   "outputs": [
    {
     "data": {
      "text/plain": [
       "[a,b,c]"
      ]
     },
     "execution_count": 7,
     "metadata": {},
     "output_type": "execute_result"
    }
   ],
   "source": [
    "x = MyArray(3)\n",
    "x[0] = 'a'\n",
    "x[1] = 'b'\n",
    "x[2] = 'c'\n",
    "x"
   ]
  },
  {
   "cell_type": "code",
   "execution_count": 8,
   "metadata": {
    "collapsed": false
   },
   "outputs": [
    {
     "data": {
      "text/plain": [
       "'c'"
      ]
     },
     "execution_count": 8,
     "metadata": {},
     "output_type": "execute_result"
    }
   ],
   "source": [
    "x[2]"
   ]
  },
  {
   "cell_type": "code",
   "execution_count": 9,
   "metadata": {
    "collapsed": false
   },
   "outputs": [
    {
     "data": {
      "text/plain": [
       "3"
      ]
     },
     "execution_count": 9,
     "metadata": {},
     "output_type": "execute_result"
    }
   ],
   "source": [
    "len(x)"
   ]
  },
  {
   "cell_type": "code",
   "execution_count": 10,
   "metadata": {
    "collapsed": false
   },
   "outputs": [],
   "source": [
    "class MyActualArrayList:\n",
    "    def __init__(self,n=10):\n",
    "        self.data = MyArray(n)\n",
    "        self.len = 0\n",
    "\n",
    "    def append(self, value): # append, yah in O(n)\n",
    "        if len(self.data) <= self.len:\n",
    "            newa = MyArray(2 * len(self.data)) # n\n",
    "            for i in range(0, self.len): # n\n",
    "                newa[i] = self.data[i]   # n\n",
    "            self.data = newa             # 1\n",
    "        self.data[self.len] = value       # 1\n",
    "        self.len += 1                # 1\n",
    "\n",
    "    def __getitem__(self, idx): # O(1)\n",
    "        \"\"\"Implements `x = self[idx]`\"\"\"\n",
    "        assert(isinstance(idx, int) and idx < self.len)\n",
    "        return self.data[idx]\n",
    "\n",
    "    def __setitem__(self, idx, value): # O(1)\n",
    "        \"\"\"Implements `self[idx] = x`\"\"\"\n",
    "        assert(isinstance(idx, int) and idx < self.len)\n",
    "        self.data[idx] = value\n",
    "\n",
    "    def __delitem__(self, idx):\n",
    "        \"\"\"Implements `del self[idx]`\"\"\"\n",
    "        assert(isinstance(idx, int) and idx < self.len)\n",
    "        #print(f\"index: {idx}, array: {self.data}, {len(self.data)}\")\n",
    "        for i in range(idx+1, self.len):\n",
    "            self.data[i-1] = self.data[i]\n",
    "        #newa = MyArray(self.len - 1)\n",
    "        #for i in range(0, len(self.data) - 1):\n",
    "           # date[i] = self.data[i]\n",
    "        #self.data = newa\n",
    "        self.len += -1\n",
    "\n",
    "    def __len__(self):\n",
    "        \"\"\"Implements `len(self)`\"\"\"\n",
    "        return self.len\n",
    "\n",
    "    def __repr__(self):\n",
    "        \"\"\"Supports inspection\"\"\"\n",
    "        return self.data.data[0:self.len].__repr__()"
   ]
  },
  {
   "cell_type": "code",
   "execution_count": 11,
   "metadata": {
    "collapsed": false
   },
   "outputs": [
    {
     "data": {
      "text/plain": [
       "[1, 2, 3]"
      ]
     },
     "execution_count": 11,
     "metadata": {},
     "output_type": "execute_result"
    }
   ],
   "source": [
    "x = MyActualArrayList(5)\n",
    "x.append(1)\n",
    "x.append(2)\n",
    "x.append(3)\n",
    "x"
   ]
  },
  {
   "cell_type": "code",
   "execution_count": 12,
   "metadata": {
    "collapsed": false
   },
   "outputs": [
    {
     "data": {
      "text/plain": [
       "[1,2,3,None,None]"
      ]
     },
     "execution_count": 12,
     "metadata": {},
     "output_type": "execute_result"
    }
   ],
   "source": [
    "x.data"
   ]
  },
  {
   "cell_type": "code",
   "execution_count": 13,
   "metadata": {
    "collapsed": false
   },
   "outputs": [
    {
     "data": {
      "text/plain": [
       "[1, 4]"
      ]
     },
     "execution_count": 13,
     "metadata": {},
     "output_type": "execute_result"
    }
   ],
   "source": [
    "y = MyActualArrayList()\n",
    "y.append(1)\n",
    "y.append(3)\n",
    "y.append(4)\n",
    "del y[1]\n",
    "y"
   ]
  },
  {
   "cell_type": "code",
   "execution_count": 14,
   "metadata": {
    "collapsed": false
   },
   "outputs": [
    {
     "data": {
      "text/plain": [
       "100000"
      ]
     },
     "execution_count": 14,
     "metadata": {},
     "output_type": "execute_result"
    }
   ],
   "source": [
    "l = []\n",
    "n = 100000\n",
    "for i in range(0,n):\n",
    "    l.append(1)\n",
    "len(l)"
   ]
  },
  {
   "cell_type": "code",
   "execution_count": 15,
   "metadata": {
    "collapsed": false
   },
   "outputs": [
    {
     "data": {
      "text/plain": [
       "100000"
      ]
     },
     "execution_count": 15,
     "metadata": {},
     "output_type": "execute_result"
    }
   ],
   "source": [
    "n = 100000\n",
    "l = MyActualArrayList()\n",
    "for i in range(0,n):\n",
    "    l.append(1)\n",
    "len(l)"
   ]
  },
  {
   "cell_type": "markdown",
   "metadata": {
    "collapsed": false
   },
   "source": [
    "##### Discussion (Runtime Complexity)\n",
    "\n"
   ]
  },
  {
   "cell_type": "markdown",
   "metadata": {
    "collapsed": false
   },
   "source": [
    "-   **insertion**: amortized $O(1)$\n",
    "-   **deletion**: $O(n)$\n",
    "-   **access and element at position i**: $O(1)$\n",
    "-   **length**: $O(1)$\n",
    "\n"
   ]
  },
  {
   "cell_type": "code",
   "execution_count": null,
   "metadata": {
    "collapsed": false
   },
   "outputs": [],
   "source": []
  }
 ],
 "metadata": {
  "kernelspec": {
   "argv": [
    "python",
    "-m",
    "ipykernel_launcher",
    "-f",
    "{connection_file}"
   ],
   "display_name": "Python 3",
   "env": null,
   "interrupt_mode": "signal",
   "language": "python",
   "metadata": null,
   "name": "python3"
  },
  "language_info": {
   "codemirror_mode": {
    "name": "ipython",
    "version": 3
   },
   "file_extension": ".py",
   "mimetype": "text/x-python",
   "name": "python",
   "nbconvert_exporter": "python",
   "pygments_lexer": "ipython3",
   "version": "3.5.2"
  },
  "name": "array-lists.ipynb",
  "org": null
 },
 "nbformat": 4,
 "nbformat_minor": 0
}
